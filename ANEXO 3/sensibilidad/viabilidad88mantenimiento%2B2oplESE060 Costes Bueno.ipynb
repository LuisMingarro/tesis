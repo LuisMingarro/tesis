{
 "cells": [
  {
   "cell_type": "code",
   "execution_count": 1,
   "metadata": {},
   "outputs": [],
   "source": [
    "import pandas as pd\n",
    "import numpy as np\n",
    "import matplotlib.pyplot as plt\n",
    "import seaborn as sns\n",
    "import numpy_financial as npf\n",
    "from pandas import ExcelWriter\n",
    "from time import time\n",
    "from datetime import datetime\n",
    "\n",
    "import gc\n",
    "#import pickle5 as pickle\n",
    "\n",
    "import warnings\n",
    "warnings.filterwarnings('ignore')\n",
    "\n",
    "%matplotlib inline\n",
    "\n",
    "CABECERA_MES=\"MES \"\n",
    "NUM_MESES=92\n",
    "\n",
    "##file_name='Tipologia 40 vi jupyter Rev'\n",
    "##sheet_name=' Viabilidad 40 manteniendo+ ESE\n",
    "##sheet_name=' Viabilidad40manteniendo+2plESE\n",
    "##sheet_name=' Viabilidad40manteniendo+1plESE\n",
    "##sheet_name=' Viabilidad 40 manteniendo+2pl\n",
    "##sheet_name=' Viabilidad 40 manteniendo+1pl\n",
    "##sheet_name=' Viabilidad 40 NE\n",
    "##sheet_name=' Viabilidad 40 NE ampliando 2pl\n",
    "##sheet_name=' Viabilidad 40 NE ampliando 1pl\n",
    "\n",
    "file_name='Tipologia 22 vi jupyter Rev'\n",
    "##sheet_name=' Viabilidad 22 manteniendo+ ESE'\n",
    "##sheet_name=' Viabilidad22manteniendo+2plESE'\n",
    "##sheet_name=' Viabilidad22manteniendo+1plESE'\n",
    "sheet_name=' Viabilidad 22 manteniendo+2pl'\n",
    "##sheet_name=' Viabilidad 22 manteniendo+1pl'\n",
    "##sheet_name=' Viabilidad 22 NE'\n",
    "##sheet_name=' Viabilidad 22 NE ampliando 2pl'\n",
    "##sheet_name=' Viabilidad 22 NE ampliando 1pl'\n",
    "\n",
    "\n",
    "##RUTA ANGEL:\n",
    "ruta='C://Users//angel//'\n",
    "\n",
    "##RUTA LUIS:\n",
    "##ruta='C://Users//luism//Dropbox//Angel-Luis//sensibilidad 20221010//'\n",
    "\n",
    "##Elegir el experimento que estamos ejecutando\n",
    "##tipo_expedimento='TODO'\n",
    "tipo_expedimento='COSTES'\n",
    "##tipo_expedimento='INGRESOS'\n",
    "\n",
    "## Rutas salida\n",
    "ruta_comun='sensibilidad//data//'\n",
    "ruta_hoy=(datetime.today().strftime('%Y%m%d %H%M'))\n",
    "rutaSalida=ruta+ruta_comun+file_name+'//'+sheet_name+'//'+tipo_expedimento+'//'+ruta_hoy+'//'\n",
    "rutaEntrada=ruta+ruta_comun+file_name+'//'+sheet_name+'//'+tipo_expedimento+'//'+ruta_hoy+'//'\n",
    "\n",
    "\n",
    "## El bueno\n",
    "data = pd.read_excel(\n",
    "   io=ruta+ruta_comun+file_name+'.xlsx',\n",
    "   sheet_name =sheet_name, dtype = {\"COEFICIENTE\":float, \"VALOR\":float, \"VALOR CALCULADO\":float, \"IMPORTES TOTALES\":float}\n",
    ")\n",
    "    \n",
    "gc.collect(generation=2)\n",
    "\n",
    "data=data.fillna(value=0)\n",
    "data = data.set_index('ELEMENTO')"
   ]
  },
  {
   "cell_type": "code",
   "execution_count": 2,
   "metadata": {},
   "outputs": [],
   "source": [
    "ajusteValorPrestamoLargo=372910\n",
    "ajusteValorPrestamoCorto=165698.28\n",
    "## Podría venir cargado de la matriz. Tal cual se ha cambiado,  Aclarar si esto es Valor, Valor Calculado o que.\n",
    "data.loc['Intereses prestamo largo', 'VALOR CALCULADO']=-ajusteValorPrestamoLargo\n",
    "data.loc['Intereses prestamo corto', 'VALOR CALCULADO']=-ajusteValorPrestamoCorto\n",
    "\n",
    "data.loc['Intereses prestamo largo', 'VALOR']=ajusteValorPrestamoLargo\n",
    "data.loc['Intereses prestamo corto', 'VALOR']=ajusteValorPrestamoCorto\n",
    "\n",
    "\n",
    "##Columnas VALOR elemento, elementosDependientes\n",
    "matrizValorElementosDependientesDeValorCalculado_ORDEN2=[\n",
    "                ['IVA', ['Informes previos', 'Topografia', 'Geotecnico']],\n",
    "                ['Proyecto demolición', ['Demolición']],\n",
    "                ['D.O. demolición', ['Demolición']],\n",
    "                ['CSSE_1', ['Demolición']],\n",
    "                ['Proyecto nueva ejecución', ['Vivienda', 'Rehabilitación']],\n",
    "                ['D.O. nueva ejecución', ['Vivienda', 'Rehabilitación']],\n",
    "                ['CSSE_2', ['Vivienda', 'Rehabilitación']],\n",
    "                ['Gestión- Project Management', ['Demolición','Vivienda', 'Rehabilitación']],\n",
    "                ['OCT', ['Vivienda', 'Rehabilitación']],\n",
    "                ['Derribo', ['Demolición']],    \n",
    "                ['Nueva edificacion', ['Vivienda', 'Rehabilitación']],\n",
    "                ['LICENCIA nueva ejecución', ['Vivienda', 'Rehabilitación']],\n",
    "                ['LICENCIA derribo', ['Demolición']],\n",
    "                ['Notaria_1', ['Vivienda']],\n",
    "                ['Registro_1', ['Vivienda']],\n",
    "                ['Notaria_2', ['Vivienda']],\n",
    "                ['Registro_2', ['Vivienda']],\n",
    "                ['Seguro decenal', ['Vivienda']],            \n",
    "            ]\n",
    "\n",
    "matrizValorElementosDependientesDeValorCalculado_ORDEN3=[\n",
    "                ['Impuestos - Sobre proyecto, D.O. Demolición y C.S.S.E.', ['Proyecto demolición', 'D.O. demolición', 'CSSE_1']],\n",
    "                ['Impuestos - Sobre proyecto, D.O. Nueva Ejecución, C.S.S.E y PM', ['Proyecto nueva ejecución', 'D.O. nueva ejecución', 'CSSE_2', 'Gestión- Project Management']],\n",
    "            ]\n",
    "\n",
    "matrizValorElementosDependientesDeImportesTotalesCostes_ORDEN5=[\n",
    "                ['AJD_3'],\n",
    "                ['Constitución prestamo'],\n",
    "                ['Banco comisión apertura'],\n",
    "                ['Intereses prestamo corto'],\n",
    "                ['Comisión cancelación']\n",
    "]\n",
    "\n",
    "## MESES\n",
    "## elemento, coeficientes, resultados\n",
    "matrizMesesElementosIndependientes=[['Informes previos', [1], ['MES 2']],\n",
    "                 ['Topografia', [1], ['MES 4']],\n",
    "                 ['Geotecnico', [1], ['MES 4']],\n",
    "                 ['Proyecto demolición', [1], ['MES 6']],\n",
    "                 ['D.O. demolición', [0.3, 0.7], ['MES 17','MES 18']],\n",
    "                 ['CSSE_1', [0.5, 0.5], ['MES 17','MES 18']],\n",
    "                 ['Proyecto nueva ejecución', [0.4, 0.6], ['MES 6','MES 9']],\n",
    "                 ['D.O. nueva ejecución', \n",
    "                      [0.0714285714285714, 0.0714285714285714, 0.0714285714285714, 0.0714285714285714, 0.0714285714285714, 0.0714285714285714, 0.0714285714285714, 0.0714285714285714, 0.0714285714285714, 0.0714285714285714, 0.0714285714285714, 0.0714285714285714, 0.0714285714285714, 0.0714285714285714], \n",
    "                      ['MES 19','MES 20','MES 21','MES 22','MES 23','MES 24','MES 25','MES 26','MES 27','MES 28','MES 29','MES 30','MES 31','MES 32']\n",
    "                 ],\n",
    "                 ['CSSE_2', \n",
    "                      [0.0714285714285714, 0.0714285714285714, 0.0714285714285714, 0.0714285714285714, 0.0714285714285714, 0.0714285714285714, 0.0714285714285714, 0.0714285714285714, 0.0714285714285714, 0.0714285714285714, 0.0714285714285714, 0.0714285714285714, 0.0714285714285714, 0.0714285714285714], \n",
    "                      ['MES 19','MES 20','MES 21','MES 22','MES 23','MES 24','MES 25','MES 26','MES 27','MES 28','MES 29','MES 30','MES 31','MES 32']\n",
    "                 ],\n",
    "                 ['Gestión- Project Management', \n",
    "                      [0.05, 0.15, 0.05, 0.04, 0.04, 0.04, 0.04, 0.04, 0.04, 0.04, 0.04,0.04, 0.04, 0.04, 0.04, 0.04, 0.04, 0.04, 0.04, 0.11], \n",
    "                      ['MES 4','MES 9','MES 11','MES 17','MES 18','MES 19','MES 20','MES 21','MES 22','MES 23','MES 24','MES 25','MES 26','MES 27','MES 28','MES 29','MES 30','MES 31','MES 32','MES 33']\n",
    "                 ],\n",
    "                 ['OCT', \n",
    "                      [0.0714285714285714, 0.0714285714285714, 0.0714285714285714, 0.0714285714285714, 0.0714285714285714, 0.0714285714285714, 0.0714285714285714, 0.0714285714285714, 0.0714285714285714, 0.0714285714285714, 0.0714285714285714, 0.0714285714285714, 0.0714285714285714, 0.0714285714285714], \n",
    "                      ['MES 19','MES 20','MES 21','MES 22','MES 23','MES 24','MES 25','MES 26','MES 27','MES 28','MES 29','MES 30','MES 31','MES 32']\n",
    "                 ],                 \n",
    "                 ['Demolición', [0.4, 0.6], ['MES 17','MES 18']],\n",
    "                 ['Gestión residuo-canon', [0.4, 0.6], ['MES 17','MES 18']],\n",
    "                 ['Vivienda', [0.03, 0.04, 0.093, 0.105, 0.165, 0.205, 0.208, 0.082, 0.072], ['MES 24','MES 25','MES 26','MES 27','MES 28','MES 29','MES 30','MES 31','MES 32']],\n",
    "                 ['Rehabilitación', [0.006, 0.016, 0.04, 0.0375, 0.045, 0.0945, 0.1175, 0.08, 0.133, 0.119, 0.1485, 0.0585, 0.1045], ['MES 19','MES 20','MES 21','MES 22','MES 23','MES 24','MES 25','MES 26','MES 27','MES 28','MES 29','MES 30','MES 31']],\n",
    "                 ['Legalizaciones-OCA', [1], ['MES 32']], \n",
    "                 ['LICENCIA nueva ejecución', [0.2, 0.8], ['MES 10','MES 13']],\n",
    "                 ['LICENCIA derribo', [0.2, 0.8], ['MES 7','MES 9']],\n",
    "                 ['Notaria_1', [1], ['MES 33']],\n",
    "                 ['Registro_1', [1], ['MES 33']],\n",
    "                 ['AJD_1', [1], ['MES 33']],\n",
    "                 ['Notaria_2', [1], ['MES 33']],\n",
    "                 ['Registro_2', [1], ['MES 33']],\n",
    "                 ['AJD_2', [1], ['MES 33']],\n",
    "                  \n",
    "                 ['Seguro decenal', \n",
    "                      [0.0625, 0.0625, 0.0625, 0.0625, 0.0625, 0.0625, 0.0625, 0.0625, 0.0625, 0.0625, 0.0625, 0.0625, 0.0625, 0.0625, 0.0625, 0.0625], \n",
    "                      ['MES 17', 'MES 18', 'MES 19','MES 20','MES 21','MES 22','MES 23','MES 24','MES 25','MES 26','MES 27','MES 28','MES 29','MES 30','MES 31','MES 32']\n",
    "                 ],\n",
    "                 ['Tasación', [1], ['MES 33']],\n",
    "                 ['Notaria prestamo', [1], ['MES 16']],\n",
    "                 ['AJD_3', [1], ['MES 16']],\n",
    "                 ['Registro prestamo', [1], ['MES 16']],\n",
    "                 ['Constitución prestamo', [1], ['MES 16']],\n",
    "                 ['Banco comisión apertura', [1], ['MES 16']],\n",
    "                 ['Comisión cancelación', [1], ['MES 92']],\n",
    "\n",
    "                 ['Mes alquiler', \n",
    "                      [0.125, 0.125, 0.125, 0.125, 0.125, 0.125, 0.125, 0.125], \n",
    "                      ['MES 18', 'MES 19','MES 20','MES 21','MES 22','MES 23','MES 24','MES 25']\n",
    "                 ],\n",
    "                 ['Alquiler guardamuebles', \n",
    "                      [0.125, 0.125, 0.125, 0.125, 0.125, 0.125, 0.125, 0.125], \n",
    "                      ['MES 18', 'MES 19','MES 20','MES 21','MES 22','MES 23','MES 24','MES 25']\n",
    "                 ],\n",
    "                 ['Venta viviendas', [1], ['MES 92']],\n",
    "                 ['Ayudas a viviendas Ayto', [1], ['MES 33']],\n",
    "                 ['Ayudas a viviendas DGA', [1], ['MES 33']],\n",
    "\n",
    "                 ['Alquiler viviendas 5 años', \n",
    "                      [0.01666667, 0.01666667,0.01666667,0.01666667,0.01666667,0.01666667,0.01666667,0.01666667,0.01666667,0.01666667,0.01666667,0.01666667,0.01666667,0.01666667,0.01666667,0.01666667,0.01666667,0.01666667,0.01666667,0.01666667,0.01666667,0.01666667,0.01666667,0.01666667,0.01666667,0.01666667,0.01666667,0.01666667,0.01666667,0.01666667,0.01666667,0.01666667,0.01666667,0.01666667,0.01666667,0.01666667,0.01666667,0.01666667,0.01666667,0.01666667,0.01666667,0.01666667,0.01666667,0.01666667,0.01666667,0.01666667,0.01666667,0.01666667,0.01666667,0.01666667,0.01666667,0.01666667,0.01666667,0.01666667,0.01666667,0.01666667,0.01666667,0.01666667,0.01666667,0.01666667], \n",
    "                      ['MES 33', 'MES 34', 'MES 35','MES 36','MES 37','MES 38','MES 39','MES 40','MES 41','MES 42','MES 43','MES 44','MES 45','MES 46','MES 47','MES 48','MES 49','MES 50','MES 51','MES 52','MES 53','MES 54','MES 55','MES 56','MES 57','MES 58','MES 59','MES 60','MES 61','MES 62','MES 63','MES 64','MES 65','MES 66','MES 67','MES 68','MES 69','MES 70','MES 71','MES 72','MES 73','MES 74','MES 75','MES 76','MES 77','MES 78','MES 79','MES 80','MES 81','MES 82','MES 83','MES 84','MES 85','MES 86','MES 87','MES 88','MES 89','MES 90','MES 91','MES 92']\n",
    "                 ],\n",
    "                 ['Capitalizacion ahorro energetico', \n",
    "                      [0.01666667, 0.01666667,0.01666667,0.01666667,0.01666667,0.01666667,0.01666667,0.01666667,0.01666667,0.01666667,0.01666667,0.01666667,0.01666667,0.01666667,0.01666667,0.01666667,0.01666667,0.01666667,0.01666667,0.01666667,0.01666667,0.01666667,0.01666667,0.01666667,0.01666667,0.01666667,0.01666667,0.01666667,0.01666667,0.01666667,0.01666667,0.01666667,0.01666667,0.01666667,0.01666667,0.01666667,0.01666667,0.01666667,0.01666667,0.01666667,0.01666667,0.01666667,0.01666667,0.01666667,0.01666667,0.01666667,0.01666667,0.01666667,0.01666667,0.01666667,0.01666667,0.01666667,0.01666667,0.01666667,0.01666667,0.01666667,0.01666667,0.01666667,0.01666667,0.01666667], \n",
    "                      ['MES 33', 'MES 34', 'MES 35','MES 36','MES 37','MES 38','MES 39','MES 40','MES 41','MES 42','MES 43','MES 44','MES 45','MES 46','MES 47','MES 48','MES 49','MES 50','MES 51','MES 52','MES 53','MES 54','MES 55','MES 56','MES 57','MES 58','MES 59','MES 60','MES 61','MES 62','MES 63','MES 64','MES 65','MES 66','MES 67','MES 68','MES 69','MES 70','MES 71','MES 72','MES 73','MES 74','MES 75','MES 76','MES 77','MES 78','MES 79','MES 80','MES 81','MES 82','MES 83','MES 84','MES 85','MES 86','MES 87','MES 88','MES 89','MES 90','MES 91','MES 92']\n",
    "                 ]   \n",
    "            ]\n",
    "\n",
    "## elementos de los que depende, meses destino, factor \n",
    "matrizMesesElementosDependientes=[\n",
    "                    ['IVA', ['Informes previos', 'Topografia', 'Geotecnico'], ['MES 2', 'MES 4']],\n",
    "                    ['Impuestos - Sobre proyecto, D.O. Demolición y C.S.S.E.', ['Proyecto demolición','D.O. demolición', 'CSSE_1'], ['MES 6','MES 17','MES 18']],\n",
    "                    ['Impuestos - Sobre proyecto, D.O. Nueva Ejecución, C.S.S.E y PM', ['Proyecto nueva ejecución','D.O. nueva ejecución','CSSE_2','Gestión- Project Management'], ['MES 4','MES 6','MES 9','MES 11','MES 17', 'MES 18', 'MES 19','MES 20','MES 21','MES 22','MES 23','MES 24','MES 25','MES 26','MES 27','MES 28','MES 29','MES 30','MES 31','MES 32', 'MES 33']],\n",
    "                    ['Derribo', ['Demolición'], ['MES 17', 'MES 18']],\n",
    "                    ['Nueva edificacion', ['Vivienda', 'Rehabilitación'], ['MES 19','MES 20','MES 21','MES 22','MES 23','MES 24','MES 25','MES 26','MES 27','MES 28','MES 29','MES 30','MES 31','MES 32']]\n",
    "]\n",
    "\n",
    "## elemento, periodo, meses\n",
    "matrizMesesElementosPrestamo=[\n",
    "                ['Intereses prestamo largo', 60, ['MES 33', 'MES 34', 'MES 35', 'MES 36', 'MES 37', 'MES 38', 'MES 39', 'MES 40', 'MES 41', 'MES 42', 'MES 43', 'MES 44', 'MES 45', 'MES 46', 'MES 47', 'MES 48', 'MES 49', 'MES 50', 'MES 51', 'MES 52', 'MES 53', 'MES 54', 'MES 55', 'MES 56', 'MES 57', 'MES 58', 'MES 59', 'MES 60', 'MES 61', 'MES 62', 'MES 63', 'MES 64', 'MES 65', 'MES 66', 'MES 67', 'MES 68', 'MES 69', 'MES 70', 'MES 71', 'MES 72', 'MES 73', 'MES 74', 'MES 75', 'MES 76', 'MES 77', 'MES 78', 'MES 79', 'MES 80', 'MES 81', 'MES 82', 'MES 83', 'MES 84', 'MES 85', 'MES 86', 'MES 87', 'MES 88', 'MES 89', 'MES 90', 'MES 91', 'MES 92']],\n",
    "                ['Intereses prestamo corto',16, ['MES 17', 'MES 18', 'MES 19', 'MES 20', 'MES 21', 'MES 22', 'MES 23', 'MES 24', 'MES 25', 'MES 26', 'MES 27', 'MES 28', 'MES 29', 'MES 30', 'MES 31', 'MES 32']]\n",
    "            ]"
   ]
  },
  {
   "cell_type": "code",
   "execution_count": 3,
   "metadata": {},
   "outputs": [],
   "source": [
    "## Creación de meses vacíos\n",
    "## Rutina para crear las columnas de meses\n",
    "def creaListaMeses(numMeses):\n",
    "    lst_out=[]\n",
    "    ##El rango empieza en 0. Tengo que añadir 1 y quitar el primero, que sería 0.\n",
    "    for i in range(numMeses+1):\n",
    "        if (i>0):\n",
    "            mes=CABECERA_MES+str(i)\n",
    "            lst_out.append(mes)\n",
    "    return lst_out\n",
    "\n",
    "\n",
    "listaMeses=creaListaMeses(NUM_MESES)\n",
    "\n",
    "\n",
    "\n",
    "## Chapu para crearme las columnas de los meses\n",
    "for i in range(len(listaMeses)):\n",
    "    data[listaMeses[i]]=0\n",
    "\n",
    "\n",
    "##Guarda en un XLS los dataframes de la lista en las correspondientes pestañas\n",
    "def save_xls(xls_path, df):\n",
    "    with ExcelWriter(xls_path, engine='xlsxwriter') as writer:\n",
    "        list_dfs= [df]\n",
    "        listaNombrePestanias= ['sensibilidad']\n",
    "        for n, df in enumerate(list_dfs):\n",
    "            ##print(n)\n",
    "            ##print(listaInformesNombrePestanias[n])\n",
    "            df.to_excel(writer,listaNombrePestanias[n])\n",
    "            \n",
    "            # Get the xlsxwriter workbook and worksheet objects.\n",
    "            workbook  = writer.book\n",
    "            worksheet = writer.sheets[listaNombrePestanias[n]]   \n",
    "        writer.save()\n",
    "listaInformesDataFrames= [data]\n",
    "listaInformesNombrePestanias= ['sensibilidad']\n",
    "\n",
    "def calcularColumnasValorCalculadoEImportesTotalesDeGastosEIngresos(df, ajustePrestamoLargo, ajustePrestamoCorto):\n",
    "    for indice_fila, fila in df.iterrows():\n",
    "        concepto=str(df.loc[indice_fila, 'CONCEPTO'])\n",
    "        valorCalculado=df.loc[indice_fila, 'COEFICIENTE']*df.loc[indice_fila, 'VALOR']\n",
    "        if (concepto.upper()=='COSTES'):\n",
    "            df.loc[indice_fila, 'VALOR CALCULADO']=valorCalculado\n",
    "            df.loc[indice_fila, 'IMPORTES TOTALES']=-valorCalculado\n",
    "        elif (concepto.upper()=='INGRESOS'):\n",
    "            df.loc[indice_fila, 'VALOR CALCULADO']=valorCalculado\n",
    "            df.loc[indice_fila, 'IMPORTES TOTALES']=abs(valorCalculado)\n",
    "    ## Restaura valores del préstamo según dato de entrada del préstamo, o según sumatorio del cálculo de los meses (creo que sobra)\n",
    "    ##df.loc['Intereses prestamo largo', 'VALOR CALCULADO']=-ajustePrestamoLargo\n",
    "    ##df.loc['Intereses prestamo largo', 'IMPORTES TOTALES']=ajustePrestamoLargo\n",
    "    ##df.loc['Intereses prestamo corto', 'VALOR CALCULADO']=-ajustePrestamoCorto\n",
    "    ##df.loc['Intereses prestamo corto', 'IMPORTES TOTALES']=ajustePrestamoCorto\n",
    "    return df             \n",
    "            \n",
    "def calculaFilasIngresosGastosMargenDeCalculados(df): \n",
    "    dataAux=df[['CONCEPTO', 'IMPORTES TOTALES']].groupby('CONCEPTO').sum()\n",
    "    df.loc['INGRESOS', 'IMPORTES TOTALES']=dataAux.loc['INGRESOS', 'IMPORTES TOTALES']\n",
    "    df.loc['GASTOS', 'IMPORTES TOTALES']=dataAux.loc['COSTES', 'IMPORTES TOTALES']\n",
    "    df.loc['MARGEN ', 'IMPORTES TOTALES']=dataAux.loc['INGRESOS', 'IMPORTES TOTALES']+dataAux.loc['COSTES', 'IMPORTES TOTALES']\n",
    "    return df\n",
    "\n",
    "## CALCULA VALOR\n",
    "## Entrada:matrizValorElementosDependientesDeValorCalculado\n",
    "## A partir de la lista de elementos calcula la suma de los elementos de los que depende, según se define enç\n",
    "def calculaFilasValor(df, elementoResultado, arrayElementosSumatorios):\n",
    "    suma=0\n",
    "    for x in range(len(arrayElementosSumatorios)):  ##Busca los sumandos de la columna Valor Calculado\n",
    "        suma=suma+df.loc[arrayElementosSumatorios[x], 'VALOR CALCULADO']\n",
    "    df.loc[elementoResultado, 'VALOR']=suma\n",
    "     \n",
    "    concepto=str(df.loc[elementoResultado, 'CONCEPTO'])\n",
    "    valorCalculado=df.loc[elementoResultado, 'COEFICIENTE']*df.loc[elementoResultado, 'VALOR']\n",
    "    df.loc[elementoResultado, 'VALOR CALCULADO']=valorCalculado\n",
    "    if (concepto.upper()=='COSTES'):\n",
    "        df.loc[elementoResultado, 'IMPORTES TOTALES']=-valorCalculado\n",
    "    elif (concepto.upper()=='INGRESOS'):\n",
    "        df.loc[elementoResultado, 'IMPORTES TOTALES']=abs(valorCalculado)\n",
    "    return df\n",
    "\n",
    "## CALCULA VALOR\n",
    "## Entrada: matrizValorElementosDependientesDeImportesTotalesCostes\n",
    "## Calcula el valor de todos los costes, menos los financieros todo * 0,8\n",
    "def calculaFilasValorCostesMenosFinancieros(df, elementos):\n",
    "    dataConceptos=df[['CONCEPTO', 'IMPORTES TOTALES']].groupby('CONCEPTO').sum()\n",
    "    costesTotales=dataConceptos.loc['COSTES', 'IMPORTES TOTALES']\n",
    "    dataGrupo=df[['GRUPO', 'IMPORTES TOTALES']].groupby('GRUPO').sum()\n",
    "    costesFinancieros=dataGrupo.loc['COSTES FINANCIEROS', 'IMPORTES TOTALES']    \n",
    "    dataCostesSinFinancieros=costesTotales-costesFinancieros\n",
    "    resultado=dataCostesSinFinancieros*0.8\n",
    "    for x in range(len(elementos)):\n",
    "        df.loc[elementos[x], 'VALOR']=abs(resultado)\n",
    "        if (elementos[x]!='Intereses prestamo corto'):\n",
    "            ##print(    elementos[x])\n",
    "            concepto=str(df.loc[elementos[x], 'CONCEPTO'])\n",
    "            valorCalculado=df.loc[elementos[x], 'COEFICIENTE']*df.loc[elementos[x], 'VALOR']\n",
    "            df.loc[elementos[x], 'VALOR CALCULADO']=valorCalculado\n",
    "            if (concepto.upper()=='COSTES'):\n",
    "                df.loc[elementos[x], 'IMPORTES TOTALES']=-valorCalculado\n",
    "            elif (concepto.upper()=='INGRESOS'):\n",
    "                df.loc[elementos[x], 'IMPORTES TOTALES']=abs(valorCalculado)\n",
    "    return df \n",
    "\n",
    "## CALCULA VALOR\n",
    "## Entrada: Sólo sirve para el elemento 'Interes prestamo largo'\n",
    "## Calcula Costes menos Ayudas * 0,8\n",
    "## Precondición: Debe tener actualizados los valores de los prestamos con lo que haya de antes (dato inicial, o actualización de suma de meses)\n",
    "def calculaFilasValorPrestamoLargo(df):\n",
    "    ##Creo que estas dos primeras líneas sobran\n",
    "    ##df.loc['Intereses prestamo largo', 'VALOR CALCULADO']=ajustePrestamoLargo\n",
    "    ##df.loc['Intereses prestamo corto', 'VALOR CALCULADO']=ajustePrestamoCorto\n",
    "    dataConceptos=df[['CONCEPTO', 'VALOR CALCULADO']].groupby('CONCEPTO').sum()\n",
    "    costesTotales=dataConceptos.loc['COSTES', 'VALOR CALCULADO']\n",
    "    ##print(\"costesTotales: \")\n",
    "    ##print(costesTotales)\n",
    "    dataGrupo=df[['GRUPO', 'VALOR CALCULADO']].groupby('GRUPO').sum()\n",
    "    ayudas=dataGrupo.loc['AYUDAS', 'VALOR CALCULADO']\n",
    "    ##print(\"ayudas\")\n",
    "    ##print(ayudas)\n",
    "    dataCostesSinAyudas=costesTotales-ayudas\n",
    "    resultado=dataCostesSinAyudas*0.8\n",
    "    df.loc['Intereses prestamo largo', 'VALOR']=resultado\n",
    "    return df  \n",
    "\n",
    "## CALCULA MESES\n",
    "## Entrada: matrizMesesElementosIndependientes\n",
    "## Cada valor lo multiplica por su coeficiente y lo va guardando en el correspondiente mes, según la matriz\n",
    "def calculaFilasMeses(df, elemento, arrayCoeficientes, arrayResultado):\n",
    "    for x in range(len(arrayCoeficientes)):  ##Todos, de principio a fin\n",
    "        #print(elemento)\n",
    "        df.loc[elemento, arrayResultado[x]]=df.loc[elemento, 'IMPORTES TOTALES']*arrayCoeficientes[x]\n",
    "    return df      \n",
    "\n",
    "## TODO ANGEL: Tomar el coeficiente de la Excel, en vez de sacarlo de la matriz\n",
    "## CALCULA MESES\n",
    "## Entrada: matrizMesesElementosDependientes\n",
    "##  ['IVA', ['Informes previos', 'Topografia', 'Geotecnico'], ['MES 2', 'MES 4'], [0.21]],\n",
    "## Este procedmiento calcula la suma de los meses de los elementos que se indiquen, y el resultado se multiplica por el coeficiente que corresponda.\n",
    "def calculaSumasColumnasMeses(df, elementoResultado, arrayElementosSumatorios, arrayMesDestino):\n",
    "    coeficiente=df.loc[elementoResultado, 'COEFICIENTE']\n",
    "    for y in range(len(arrayMesDestino)):  ##Meses que indica el array\n",
    "        suma=0.0\n",
    "        for x in range(len(arrayElementosSumatorios)):  ##Para cada mes hace la suma de los elementos que se quieren sumar\n",
    "            suma=suma+df.loc[arrayElementosSumatorios[x], arrayMesDestino[y]]\n",
    "        df.loc[elementoResultado, arrayMesDestino[y]]=suma*coeficiente\n",
    "    return df \n",
    "\n",
    "## CALCULA MESES\n",
    "## Entrada: matrizMesesElementosPrestamo\n",
    "## Caso especial para el cálculo de meses de los intereses a largo y corto plazo. Devuelve la suma para poder hacer el ajuste\n",
    "def calculaMesesPrestamo(df, elementoCalcular, periodo, arrayMeses):\n",
    "    ##print (elementoCalcular)\n",
    "    list_out = []\n",
    "    sumaValorPrestamo=0\n",
    "    total=df.loc[elementoCalcular, 'VALOR']\n",
    "    tasa=df.loc[elementoCalcular, 'COEFICIENTE']\n",
    "    tasa=tasa/12\n",
    "    nMeses=len(arrayMeses)\n",
    "    for nPeriodo in range(periodo+1): ## ComoMesesdesde 0 le añado 1 y omito la primera iteración\n",
    "        if (nPeriodo>0):\n",
    "            resultado = npf.ipmt(tasa, nPeriodo, nMeses, total)\n",
    "            sumaValorPrestamo=sumaValorPrestamo+resultado\n",
    "            list_out.append(resultado)\n",
    "    for x in range(len(arrayMeses)):\n",
    "        df.loc[elementoCalcular, arrayMeses[x]]=list_out[x]\n",
    "    ##print('end')\n",
    "    ##Ojo con los signos. El cálculo de intereses se hace a partir de los meses, y son negativos.\n",
    "    if (elementoCalcular=='Intereses prestamo largo'):\n",
    "        df.loc['Intereses prestamo largo', 'VALOR CALCULADO']=-sumaValorPrestamo\n",
    "        df.loc['Intereses prestamo largo', 'IMPORTES TOTALES']=+sumaValorPrestamo\n",
    "    elif (elementoCalcular=='Intereses prestamo corto'):\n",
    "        df.loc['Intereses prestamo corto', 'VALOR CALCULADO']=-sumaValorPrestamo\n",
    "        df.loc['Intereses prestamo corto', 'IMPORTES TOTALES']=+sumaValorPrestamo\n",
    "    return df, sumaValorPrestamo\n",
    "\n",
    "## Tasa R\n",
    "data.loc['TASA R ESTIMADA ANUAL', 'IMPORTES TOTALES']=0.06\n",
    "## Tasa interés\n",
    "data.loc['TASA INTERES', 'IMPORTES TOTALES']=0.0005\n",
    "\n",
    "## Vamos por el C-F PROYECTO (ingresos- pagos)\n",
    "def calculaCFProyecto(df, listaMeses):\n",
    "    acumuladoMeses=0\n",
    "    for n, mes in enumerate(listaMeses):\n",
    "        df.loc['C-F PROYECTO (ingresos- pagos)', listaMeses[n]]=0 ## Como en el dataframe ya tengo un valor, lo inicializo porque sino, la siguiente línea (sum) lo suma.\n",
    "        totalMes = df[listaMeses[n]].sum()\n",
    "        acumuladoMeses=acumuladoMeses+totalMes\n",
    "        df.loc['C-F PROYECTO (ingresos- pagos)', listaMeses[n]]=totalMes\n",
    "    df.loc['C-F ACUMULADO PROYECTO (ingresos-pagos)', 'IMPORTES TOTALES']=acumuladoMeses        \n",
    "    return df\n",
    "\n",
    "def tasaEstimadaMensual(df):\n",
    "    tasaREstimadaAnual=df.loc['TASA R ESTIMADA ANUAL', 'IMPORTES TOTALES']\n",
    "    tasaREstimadaAnual\n",
    "    resultado=pow((1+tasaREstimadaAnual),(1/12))\n",
    "    resultado= resultado-1\n",
    "    #print (resultado)\n",
    "    df.loc['TASA ESTIMADA MENSUAL', 'IMPORTES TOTALES']=resultado\n",
    "    return df\n",
    "\n",
    "def calculaVAN(df, mesInicio, mesFin):\n",
    "    lst_valores_van=[]\n",
    "    valorMesesNoVan=0\n",
    "    valorMesesVan=0\n",
    "    ##Crea los literales de los meses\n",
    "    for i in range(mesFin+1):\n",
    "        if (i>0): ## Nos saltamos MES 0\n",
    "            mes=CABECERA_MES+str(i)      \n",
    "            \n",
    "            valorMes=df.loc['C-F PROYECTO (ingresos- pagos)', mes]\n",
    "            if (i<mesInicio):\n",
    "                valorMesesNoVan=valorMesesNoVan+ valorMes\n",
    "            else:\n",
    "                lst_valores_van.append(valorMes)\n",
    "                valorMesesVan=valorMesesVan+ valorMes\n",
    "                ##print(valorMes)\n",
    "        \n",
    "    tasaEstimadaMensual= df.loc['TASA ESTIMADA MENSUAL', 'IMPORTES TOTALES']\n",
    "    VAN=npf.npv(tasaEstimadaMensual, lst_valores_van)\n",
    "    VANfinal=VAN+valorMesesNoVan\n",
    "##    print(\"Tasa:\"+str(tasaEstimadaMensual))\n",
    "##    print(\"valorMesesVan:\"+str(valorMesesVan))\n",
    "##    print(\"VAN formula = Tasa y valorMesesVan:\"+str(VAN))\n",
    "##    print(\"valor 9 primeros meses:\"+str(valorMesesNoVan))\n",
    "##    print(\"resultado VANfinal:\"+str(VANfinal))\n",
    "    df.loc['VAN PROYECTO', 'IMPORTES TOTALES']=VANfinal\n",
    "    return df\n",
    "\n",
    "def calculaTIR(df, mesInicio, mesFin):\n",
    "    lst_valores_tir=[]\n",
    "    valorMesesTir=0\n",
    "    ##Crea los literales de los meses\n",
    "    for i in range(NUM_MESES+1):\n",
    "        if (i>0): ## Nos saltamos MES 0\n",
    "            mes=CABECERA_MES+str(i)      \n",
    "            #print (mes)\n",
    "            valorMes=df.loc['C-F PROYECTO (ingresos- pagos)', mes]\n",
    "            lst_valores_tir.append(valorMes)\n",
    "            #print(lst_valores_tir)\n",
    "\n",
    "    tasaEstimadaMensual= df.loc['TASA ESTIMADA MENSUAL', 'IMPORTES TOTALES']\n",
    "    tasaInteres= df.loc['TASA INTERES', 'IMPORTES TOTALES']\n",
    "    valorTir=npf.mirr(lst_valores_tir, tasaInteres, tasaEstimadaMensual)\n",
    "    df.loc['TIRM PROYECTO', 'IMPORTES TOTALES']=valorTir\n",
    "    \n",
    "    ##print(\"tasaInteres: \"+str(tasaInteres))\n",
    "    ##print(\"tasaEstimadaMensual: \"+str(tasaEstimadaMensual))\n",
    "    ##print(\"valorTir: \"+str(valorTir))\n",
    "    return df\n",
    "\n"
   ]
  },
  {
   "cell_type": "code",
   "execution_count": 4,
   "metadata": {},
   "outputs": [],
   "source": [
    "def prepararDatos(df):\n",
    "    ##Cálculo VALOR de orden 2\n",
    "    for i in range(len(matrizValorElementosDependientesDeValorCalculado_ORDEN2)):\n",
    "        df=calculaFilasValor(df, matrizValorElementosDependientesDeValorCalculado_ORDEN2[i][0], matrizValorElementosDependientesDeValorCalculado_ORDEN2[i][1])\n",
    "\n",
    "    ##Cálculo VALOR de orden 3\n",
    "    for i in range(len(matrizValorElementosDependientesDeValorCalculado_ORDEN3)):\n",
    "        df=calculaFilasValor(df, matrizValorElementosDependientesDeValorCalculado_ORDEN3[i][0], matrizValorElementosDependientesDeValorCalculado_ORDEN3[i][1])\n",
    "\n",
    "\n",
    "    ##Cálculo VALOR de orden 5, depende de cálculo anterior\n",
    "    for i in range(len(matrizValorElementosDependientesDeImportesTotalesCostes_ORDEN5)):\n",
    "        df=calculaFilasValorCostesMenosFinancieros(df, matrizValorElementosDependientesDeImportesTotalesCostes_ORDEN5[i])\n",
    "\n",
    "    ##Cálculo VALOR para el elemento 'Interes prestamo largo'. Depende del valor calculado\n",
    "    df=calculaFilasValorPrestamoLargo(df)\n",
    "\n",
    "\n",
    "    ## Cálculo MESES\n",
    "    ##Independientes\n",
    "    for i in range(len(matrizMesesElementosIndependientes)):\n",
    "        df=calculaFilasMeses(df, matrizMesesElementosIndependientes[i][0], matrizMesesElementosIndependientes[i][1], matrizMesesElementosIndependientes[i][2])\n",
    "\n",
    "    ##Dependientes\n",
    "\n",
    "    for i in range(len(matrizMesesElementosDependientes)):\n",
    "        df=calculaSumasColumnasMeses(df, matrizMesesElementosDependientes[i][0], matrizMesesElementosDependientes[i][1], matrizMesesElementosDependientes[i][2])\n",
    "\n",
    "    ##Meses Préstamo a largo y a corto plazo\n",
    "    for i in range(len(matrizMesesElementosPrestamo)):\n",
    "        df, valorPrestamo=calculaMesesPrestamo(df, matrizMesesElementosPrestamo[i][0], matrizMesesElementosPrestamo[i][1], matrizMesesElementosPrestamo[i][2])\n",
    "    listaMeses=creaListaMeses(NUM_MESES)\n",
    "    df=calculaCFProyecto(df, listaMeses)\n",
    "    df=tasaEstimadaMensual(df)\n",
    "    df=calculaVAN(df, 10, NUM_MESES)\n",
    "    df=calculaTIR(df, 1, 92)\n",
    "    \n",
    "    df=calculaFilasIngresosGastosMargenDeCalculados(df)\n",
    "\n",
    "    return df"
   ]
  },
  {
   "cell_type": "code",
   "execution_count": 5,
   "metadata": {},
   "outputs": [
    {
     "name": "stdout",
     "output_type": "stream",
     "text": [
      "C://Users//angel//sensibilidad//data//Tipologia 22 vi jupyter Rev// Viabilidad 22 manteniendo+2pl//TODO//20221211 2300// Viabilidad 22 manteniendo+2pl (sin calcular).xlsx\n"
     ]
    }
   ],
   "source": [
    "##Guardamos una Excel con lo que hemos leido. Ojo que los meses los he limpiado.\n",
    "save_xls(rutaSalida+sheet_name+' (sin calcular).xlsx', data)\n",
    "print(rutaSalida+sheet_name+' (sin calcular).xlsx')"
   ]
  },
  {
   "cell_type": "code",
   "execution_count": 6,
   "metadata": {},
   "outputs": [],
   "source": [
    "## matriz de configuración de elementos valor y porcentaje, según Excel \"completoConAnotaciones\"\n",
    "## constante para el número de iteraciones\n",
    "## Funcion para calcular la variación de cada elemento a partir de la matriz de configuración y del número de iteraciones\n",
    "## Función para actualizar cada elemento de la matriz con su incremento.\n",
    "\n",
    "## Hacer el precálculo\n",
    "## Crear columna de iteración\n",
    "## \n",
    "## Iteración de 100\n",
    "## Actualizar data según matriz de configuración, con el incremento correspondinte (valor= valor + valor calculado)\n",
    "## Hacer el cálculo de la Excel completa con los nuevos valores.\n",
    "\n",
    "## Hacer un histograma con el VAN. Margen y TIR\n"
   ]
  },
  {
   "cell_type": "code",
   "execution_count": 7,
   "metadata": {},
   "outputs": [],
   "source": [
    "def calculaValDesdeEIncremento(df, iteraciones, porcentajeInicio, porcentajeFin, elemento):\n",
    "    valor=df.loc[elemento, 'VALOR']\n",
    "    valorDesde=valor*(1-porcentajeInicio)\n",
    "    valorHasta=valor*(1+porcentajeFin)\n",
    "    incremento=(valorHasta-valorDesde)/iteraciones\n",
    "    ##print('valor: '+str(valor))\n",
    "    ##print('valorDesde: '+str(valorDesde))\n",
    "    ##print('valorHasta: '+str(valorHasta))\n",
    "    ##print('incremento: '+str(incremento))\n",
    "    return valorDesde, incremento\n",
    "\n",
    "def actualizaDatos(df, elemento, incremento):\n",
    "    valor=df.loc[elemento, 'VALOR']\n",
    "    valor=valor+incremento\n",
    "    df.loc[elemento, 'VALOR']=valor\n",
    "    concepto=str(df.loc[elemento, 'CONCEPTO'])\n",
    "    valorCalculado=df.loc[elemento, 'COEFICIENTE']*df.loc[elemento, 'VALOR']\n",
    "    df.loc[elemento, 'VALOR CALCULADO']=valorCalculado\n",
    "    if (concepto.upper()=='COSTES'):\n",
    "        df.loc[elemento, 'IMPORTES TOTALES']=-valorCalculado\n",
    "    elif (concepto.upper()=='INGRESOS'):\n",
    "        df.loc[elemento, 'IMPORTES TOTALES']=abs(valorCalculado)\n",
    "    return df\n",
    "\n",
    "def iniciaDatos(df, elemento, valor):\n",
    "    df.loc[elemento, 'VALOR']=valor  \n",
    "    concepto=str(df.loc[elemento, 'CONCEPTO'])\n",
    "    valorCalculado=df.loc[elemento, 'COEFICIENTE']*df.loc[elemento, 'VALOR']\n",
    "    df.loc[elemento, 'VALOR CALCULADO']=valorCalculado\n",
    "    if (concepto.upper()=='COSTES'):\n",
    "        df.loc[elemento, 'IMPORTES TOTALES']=-valorCalculado\n",
    "    elif (concepto.upper()=='INGRESOS'):\n",
    "        df.loc[elemento, 'IMPORTES TOTALES']=abs(valorCalculado)\n",
    "    return df\n",
    "    \n",
    "\n",
    "def concatenaDataFrameSimplificado(resdf, df, iteracion):\n",
    "    df = df.filter(['ELEMENTO','CONCEPTO','GRUPO', 'IMPORTES TOTALES'], axis=1)\n",
    "    df=df.reset_index()\n",
    "    dataResumen=df.loc[(df['ELEMENTO'] == 'Demolición')|(df['ELEMENTO'] == 'Gestión residuo-canon')|(df['ELEMENTO'] == 'Vivienda')|\n",
    "                      (df['ELEMENTO'] == 'Rehabilitación')|(df['ELEMENTO'] == 'Venta viviendas')|(df['ELEMENTO'] == 'Ayudas a viviendas Ayto')|\n",
    "                      (df['ELEMENTO'] == 'Ayudas a viviendas DGA')|(df['ELEMENTO'] == 'Alquiler viviendas 5 años')|(df['ELEMENTO'] == 'Capitalizacion ahorro energetico')|\n",
    "                       (df['ELEMENTO'] == 'Capitalizacion ahorro energetico')|(df['ELEMENTO'] == 'INGRESOS')|(df['ELEMENTO'] == 'MARGEN ')|\n",
    "                       (df['ELEMENTO'] == 'VAN PROYECTO')|(df['ELEMENTO'] == 'TIRM PROYECTO')\n",
    "                      ]\n",
    "    dataResumen['iteracion']=iteracion\n",
    "    resdf = pd.concat([resdf, dataResumen])\n",
    "    return resdf\n",
    "\n",
    "def imprimeMuestraExcel(resData, iteracion):\n",
    "    start_time = time()\n",
    "    save_xls(rutaSalida+sheet_name+' (muestra).xlsx', resData)\n",
    "    print(rutaSalida+sheet_name+' (muestra).xlsx')\n",
    "    elapsed_time = time() - start_time\n",
    "    print(\"Tiempo Guardar fichero Excel(s) de muestra para iteración \"+str(iteracion)+\": \"+str(elapsed_time))\n"
   ]
  },
  {
   "cell_type": "code",
   "execution_count": null,
   "metadata": {},
   "outputs": [],
   "source": []
  },
  {
   "cell_type": "code",
   "execution_count": 8,
   "metadata": {},
   "outputs": [],
   "source": [
    "## Proceso para calcular TODO\n",
    "def calculaTodo(inData):\n",
    "    resultadoData=pd.DataFrame()\n",
    "    start_time = time()\n",
    "    elapsed_time = time() - start_time  \n",
    "\n",
    "    iteracion=0\n",
    "    iteraciones=2\n",
    "\n",
    "    iteracionD1=0\n",
    "    iteracionD2=0\n",
    "    iteracionD3=0\n",
    "    iteracionD4=0\n",
    "    iteracionD5=0\n",
    "    iteracionD6=0\n",
    "    iteracionD7=0\n",
    "    iteracionD8=0\n",
    "    iteracionD9=0\n",
    "    \n",
    "    \n",
    "    precision = 2\n",
    "\n",
    "    ##Calcula valores de inicio e incremento a partir de las iteraciones.\n",
    "    valorDesdeDemolicion, incrementoDemolicion = calculaValDesdeEIncremento(inData, precision, 0.1, 0.25, 'Demolición')\n",
    "    valorDesdeResiduoCanon, incrementoResiduoCanon = calculaValDesdeEIncremento(inData, precision, 0, 0.5, 'Gestión residuo-canon')\n",
    "    valorDesdeVivienda, incrementoVivienda = calculaValDesdeEIncremento(inData, precision, 0.15, 0.5, 'Vivienda')\n",
    "    valorDesdeRehabilitacion, incrementoRehabilitacion = calculaValDesdeEIncremento(inData, precision, 0, 2.85, 'Rehabilitación')\n",
    "\n",
    "    valorDesdeVentaViviendas, incrementoVentaViviendas = calculaValDesdeEIncremento(inData, precision, 0.35, 0.10, 'Venta viviendas')\n",
    "    valorDesdeAyudasViviendasAyto, incrementoAyudasViviendasAyto = calculaValDesdeEIncremento(inData, precision, 0.35, 0.5, 'Ayudas a viviendas Ayto')\n",
    "    valorDesdeAyudasViviendasDGA, incrementoAyudasViviendasDGA = calculaValDesdeEIncremento(inData, precision, 0.35, 0.5, 'Ayudas a viviendas DGA')\n",
    "    valorDesdeAlquilerViviendas, incrementoAlquilerViviendas = calculaValDesdeEIncremento(inData, precision, 0.5, 0.5, 'Alquiler viviendas 5 años')\n",
    "    valorDesdeCapitalizacionEnergia, incrementoCapitalizacionEnergia = calculaValDesdeEIncremento(inData, precision, 0.5, 1, 'Capitalizacion ahorro energetico')\n",
    "\n",
    "\n",
    "    dataD1=inData.copy()\n",
    "    for iteracionD1 in range(iteraciones):\n",
    "        start_time_itera = time()\n",
    "        if (iteracionD1==0):\n",
    "            dataD1=iniciaDatos(dataD1, 'Demolición', valorDesdeDemolicion)\n",
    "        else:\n",
    "            dataD1=actualizaDatos(dataD1,  'Demolición', incrementoDemolicion)\n",
    "            gc.collect(generation=2)\n",
    "        ## Hace el recálculo.\n",
    "        dataD1=prepararDatos(dataD1)    \n",
    "        dataD2=dataD1.copy()\n",
    "\n",
    "        for iteracionD2 in range(iteraciones):\n",
    "            ## Si es la primera iteración (estamos en la siguiente cuenta de un bucle inferior) se deben resetear los datos      \n",
    "            ## del dataframe. Si no, hace el incremento\n",
    "            if (iteracionD2==0):\n",
    "                dataD2=iniciaDatos(dataD2, 'Gestión residuo-canon', valorDesdeResiduoCanon)\n",
    "            else:\n",
    "                dataD2=actualizaDatos(dataD2, 'Gestión residuo-canon', incrementoResiduoCanon)           \n",
    "            ## Hace el recálculo.\n",
    "            dataD2=prepararDatos(dataD2)\n",
    "            ## Actualiza la columna iteración    \n",
    "            dataD3=dataD2.copy()\n",
    "\n",
    "            for iteracionD3 in range(iteraciones):\n",
    "                ## Si es la primera iteración (estamos en la siguiente cuenta de un bucle inferior) se deben resetear los datos      \n",
    "                ## del dataframe. Si no, hace el incremento\n",
    "                if (iteracionD3==0):\n",
    "                    dataD3=iniciaDatos(dataD3, 'Vivienda', valorDesdeVivienda)\n",
    "                else:\n",
    "                    dataD3=actualizaDatos(dataD3, 'Vivienda', incrementoVivienda)           \n",
    "                ## Hace el recálculo.\n",
    "                dataD3=prepararDatos(dataD3)\n",
    "                dataD4=dataD3.copy()\n",
    "\n",
    "                for iteracionD4 in range(iteraciones):\n",
    "                    ## Si es la primera iteración (estamos en la siguiente cuenta de un bucle inferior) se deben resetear los datos      \n",
    "                    ## del dataframe. Si no, hace el incremento\n",
    "                    iteracion=iteracion+1\n",
    "                    if (iteracionD4==0):\n",
    "                        dataD4=iniciaDatos(dataD4, 'Rehabilitación', valorDesdeRehabilitacion)\n",
    "                    else:\n",
    "                        dataD4=actualizaDatos(dataD4, 'Rehabilitación', incrementoRehabilitacion)           \n",
    "                    ## Hace el recálculo.\n",
    "                    dataD4=prepararDatos(dataD4)\n",
    "                    if (iteracion==500):\n",
    "                        imprimeMuestraExcel(dataD4, iteracion)\n",
    "                    resultadoData=concatenaDataFrameSimplificado(resultadoData, dataD4, iteracion)\n",
    "                    time_aux = elapsed_time\n",
    "                    elapsed_time = time() - start_time\n",
    "                    partial_time = time() - start_time_itera\n",
    "                    print(\"Tiempo ejecución iteración. Número:\"+str(iteracion)+\", Tiempo acumulado(s): \"+str(elapsed_time)+\", Tiempo iteración(s): \"+str(partial_time))\n",
    "    return resultadoData"
   ]
  },
  {
   "cell_type": "code",
   "execution_count": 9,
   "metadata": {},
   "outputs": [
    {
     "name": "stdout",
     "output_type": "stream",
     "text": [
      "Tiempo ejecución iteración. Número:1, Tiempo acumulado(s): 0.7628374099731445, Tiempo iteración(s): 0.7618653774261475\n",
      "Tiempo ejecución iteración. Número:2, Tiempo acumulado(s): 0.9659121036529541, Tiempo iteración(s): 0.964940071105957\n",
      "Tiempo ejecución iteración. Número:3, Tiempo acumulado(s): 1.3423335552215576, Tiempo iteración(s): 1.3413615226745605\n",
      "Tiempo ejecución iteración. Número:4, Tiempo acumulado(s): 1.5297300815582275, Tiempo iteración(s): 1.5287580490112305\n",
      "Tiempo ejecución iteración. Número:5, Tiempo acumulado(s): 2.141843557357788, Tiempo iteración(s): 2.140871524810791\n",
      "Tiempo ejecución iteración. Número:6, Tiempo acumulado(s): 2.3712306022644043, Tiempo iteración(s): 2.3702585697174072\n",
      "Tiempo ejecución iteración. Número:7, Tiempo acumulado(s): 2.7797129154205322, Tiempo iteración(s): 2.778740882873535\n",
      "Tiempo ejecución iteración. Número:8, Tiempo acumulado(s): 2.9612679481506348, Tiempo iteración(s): 2.9602959156036377\n",
      "Tiempo ejecución iteración. Número:9, Tiempo acumulado(s): 3.764721632003784, Tiempo iteración(s): 0.8034536838531494\n",
      "Tiempo ejecución iteración. Número:10, Tiempo acumulado(s): 3.952176570892334, Tiempo iteración(s): 0.9909086227416992\n",
      "Tiempo ejecución iteración. Número:11, Tiempo acumulado(s): 4.346269369125366, Tiempo iteración(s): 1.3850014209747314\n",
      "Tiempo ejecución iteración. Número:12, Tiempo acumulado(s): 4.543773412704468, Tiempo iteración(s): 1.582505464553833\n",
      "Tiempo ejecución iteración. Número:13, Tiempo acumulado(s): 5.110381364822388, Tiempo iteración(s): 2.149113416671753\n",
      "Tiempo ejecución iteración. Número:14, Tiempo acumulado(s): 5.310177803039551, Tiempo iteración(s): 2.348909854888916\n",
      "Tiempo ejecución iteración. Número:15, Tiempo acumulado(s): 5.688685894012451, Tiempo iteración(s): 2.7274179458618164\n",
      "Tiempo ejecución iteración. Número:16, Tiempo acumulado(s): 5.8917624950408936, Tiempo iteración(s): 2.930494546890259\n"
     ]
    }
   ],
   "source": [
    "## En resData guardaremos todos los dataframes (data) que vayamos calculando\n",
    "resData=calculaTodo(data)\n",
    "resData.rename(columns={'IMPORTES TOTALES': 'IMPORTES_TOTALES'}, inplace=True)"
   ]
  },
  {
   "cell_type": "code",
   "execution_count": 10,
   "metadata": {},
   "outputs": [
    {
     "name": "stdout",
     "output_type": "stream",
     "text": [
      "C://Users//angel//sensibilidad//data//Tipologia 22 vi jupyter Rev// Viabilidad 22 manteniendo+2pl//TODO//20221211 2300// Viabilidad 22 manteniendo+2pl (resumen calculo).pkl\n",
      "Tiempo Guardar fichero PKL(s): 0.0049860477447509766\n"
     ]
    }
   ],
   "source": [
    "## Guarda la cuenta resumida del bloque anterior en PKL.\n",
    "start_time = time()\n",
    "resData.to_pickle(rutaSalida+sheet_name+' (resumen calculo).pkl')\n",
    "print(rutaSalida+sheet_name+' (resumen calculo).pkl')\n",
    "elapsed_time = time() - start_time\n",
    "print(\"Tiempo Guardar fichero PKL(s): \"+str(elapsed_time))"
   ]
  },
  {
   "cell_type": "code",
   "execution_count": 11,
   "metadata": {},
   "outputs": [
    {
     "name": "stdout",
     "output_type": "stream",
     "text": [
      "C://Users//angel//sensibilidad//data//Tipologia 22 vi jupyter Rev// Viabilidad 22 manteniendo+2pl//TODO//20221211 2300// Viabilidad 22 manteniendo+2pl (resumen calculo).xlsx\n",
      "Tiempo Guardar fichero Excel(s): 0.05867481231689453\n"
     ]
    }
   ],
   "source": [
    "## Guarda la cuenta resumida del bloque anterior en XLS.\n",
    "start_time = time()\n",
    "save_xls(rutaSalida+sheet_name+' (resumen calculo).xlsx', resData)\n",
    "print(rutaSalida+sheet_name+' (resumen calculo).xlsx')\n",
    "elapsed_time = time() - start_time\n",
    "print(\"Tiempo Guardar fichero Excel(s): \"+str(elapsed_time))"
   ]
  },
  {
   "cell_type": "code",
   "execution_count": 12,
   "metadata": {},
   "outputs": [],
   "source": [
    "## Guarda la cuenta resumida del bloque anterior en CSV.\n",
    "## start_time = time()\n",
    "## resData.to_csv(rutaSalida+sheet_name+' (resumen calculo).csv', header = True, index = True)\n",
    "## print(rutaSalida+sheet_name+'.csv')\n",
    "## elapsed_time = time() - start_time\n",
    "## print(\"Tiempo Guardar fichero CSV(s): \"+str(elapsed_time))"
   ]
  },
  {
   "cell_type": "code",
   "execution_count": 13,
   "metadata": {},
   "outputs": [],
   "source": [
    "## Busca todos los elementos VAN positivos o con cero\n",
    "dataVAN = resData.loc[(resData['ELEMENTO'] == 'VAN PROYECTO')]\n",
    "dataVANPositivo = dataVAN.query(\"IMPORTES_TOTALES >= 0\")\n",
    "## Busca todas las filas que estén en la iteración que cumple la condición anterior (van positivo y mayor que cero)\n",
    "resDataVANpositivo=resData[resData['iteracion'].isin(dataVANPositivo['iteracion'])]\n",
    "\n",
    "## Busca todos los elementos Margen positivos o con cero\n",
    "dataMargen = resData.loc[(resData['ELEMENTO'] == 'MARGEN ')]\n",
    "dataMargenPositivo = dataMargen.query(\"IMPORTES_TOTALES >= 0\")\n",
    "## Busca todas las filas que estén en la iteración que cumple la condición anterior (van positivo y mayor que cero)\n",
    "resDataMargenpositivo=resData[resData['iteracion'].isin(dataMargenPositivo['iteracion'])]"
   ]
  },
  {
   "cell_type": "code",
   "execution_count": 14,
   "metadata": {},
   "outputs": [
    {
     "name": "stdout",
     "output_type": "stream",
     "text": [
      "C://Users//angel//sensibilidad//data//Tipologia 22 vi jupyter Rev// Viabilidad 22 manteniendo+2pl//TODO//20221211 2300// Viabilidad 22 manteniendo+2pl (VAN mayorIgualCero).xlsx\n",
      "Tiempo Guardar fichero Excel(s) Resumen Elementos VAN: 0.02761697769165039\n",
      "C://Users//angel//sensibilidad//data//Tipologia 22 vi jupyter Rev// Viabilidad 22 manteniendo+2pl//TODO//20221211 2300// Viabilidad 22 manteniendo+2pl (MARGEN mayorIgualCero).xlsx\n",
      "Tiempo Guardar fichero Excel(s) Resumen Elementos Margen: 0.03374528884887695\n"
     ]
    }
   ],
   "source": [
    "start_time = time()\n",
    "save_xls(rutaSalida+sheet_name+' (VAN mayorIgualCero).xlsx', resDataVANpositivo)\n",
    "print(rutaSalida+sheet_name+' (VAN mayorIgualCero).xlsx')\n",
    "elapsed_time = time() - start_time\n",
    "print(\"Tiempo Guardar fichero Excel(s) Resumen Elementos VAN: \"+str(elapsed_time))\n",
    "\n",
    "start_time = time()\n",
    "save_xls(rutaSalida+sheet_name+' (MARGEN mayorIgualCero).xlsx', resDataMargenpositivo)\n",
    "print(rutaSalida+sheet_name+' (MARGEN mayorIgualCero).xlsx')\n",
    "elapsed_time = time() - start_time\n",
    "print(\"Tiempo Guardar fichero Excel(s) Resumen Elementos Margen: \"+str(elapsed_time))"
   ]
  },
  {
   "cell_type": "code",
   "execution_count": null,
   "metadata": {},
   "outputs": [],
   "source": []
  },
  {
   "cell_type": "code",
   "execution_count": null,
   "metadata": {},
   "outputs": [],
   "source": []
  },
  {
   "cell_type": "code",
   "execution_count": null,
   "metadata": {},
   "outputs": [],
   "source": []
  },
  {
   "cell_type": "code",
   "execution_count": 15,
   "metadata": {},
   "outputs": [],
   "source": [
    "## Bloque II. Carga del fichero -------------------------------------------------------\n",
    "## Leemos el fichero que sea y pintamos ....... "
   ]
  },
  {
   "cell_type": "code",
   "execution_count": 16,
   "metadata": {},
   "outputs": [
    {
     "name": "stdout",
     "output_type": "stream",
     "text": [
      "C://Users//angel//sensibilidad//data//Tipologia 22 vi jupyter Rev// Viabilidad 22 manteniendo+2pl//TODO//20221211 2300// Viabilidad 22 manteniendo+2pl.pkl\n",
      "Tiempo Leer fichero PKL(s): 0.003958702087402344\n"
     ]
    }
   ],
   "source": [
    "start_time = time()\n",
    "\n",
    "resData=pd.read_pickle(rutaEntrada+sheet_name+' (resumen calculo).pkl')\n",
    "print(rutaEntrada+sheet_name+'.pkl')\n",
    "elapsed_time = time() - start_time\n",
    "print(\"Tiempo Leer fichero PKL(s): \"+str(elapsed_time))"
   ]
  },
  {
   "cell_type": "code",
   "execution_count": null,
   "metadata": {},
   "outputs": [],
   "source": []
  },
  {
   "cell_type": "code",
   "execution_count": 17,
   "metadata": {},
   "outputs": [],
   "source": [
    "## Inputs\n",
    "dataVentaViviendas = resData.loc[(resData['ELEMENTO'] == 'Venta viviendas')]\n",
    "dataAyudasViviendasAyto = resData.loc[(resData['ELEMENTO'] == 'Ayudas a viviendas Ayto')]\n",
    "dataAyudasViviendasDGA = resData.loc[(resData['ELEMENTO'] == 'Ayudas a viviendas DGA')]\n",
    "dataAlquilerViviendas = resData.loc[(resData['ELEMENTO'] == 'Alquiler viviendas 5 años')]\n",
    "dataCapitalizacionEnergia = resData.loc[(resData['ELEMENTO'] == 'Capitalizacion ahorro energetico')]\n",
    "\n",
    "dataDemolicion = resData.loc[(resData['ELEMENTO'] == 'Demolición')]\n",
    "dataGestionResiduoCanon = resData.loc[(resData['ELEMENTO'] == 'Gestión residuo-canon')]\n",
    "dataVivienda = resData.loc[(resData['ELEMENTO'] == 'Vivienda')]\n",
    "dataRehabilitacion = resData.loc[(resData['ELEMENTO'] == 'Rehabilitación')]\n"
   ]
  },
  {
   "cell_type": "code",
   "execution_count": 18,
   "metadata": {},
   "outputs": [
    {
     "data": {
      "text/html": [
       "<div>\n",
       "<style scoped>\n",
       "    .dataframe tbody tr th:only-of-type {\n",
       "        vertical-align: middle;\n",
       "    }\n",
       "\n",
       "    .dataframe tbody tr th {\n",
       "        vertical-align: top;\n",
       "    }\n",
       "\n",
       "    .dataframe thead th {\n",
       "        text-align: right;\n",
       "    }\n",
       "</style>\n",
       "<table border=\"1\" class=\"dataframe\">\n",
       "  <thead>\n",
       "    <tr style=\"text-align: right;\">\n",
       "      <th></th>\n",
       "      <th>ELEMENTO</th>\n",
       "      <th>CONCEPTO</th>\n",
       "      <th>GRUPO</th>\n",
       "      <th>IMPORTES_TOTALES</th>\n",
       "      <th>iteracion</th>\n",
       "    </tr>\n",
       "  </thead>\n",
       "  <tbody>\n",
       "    <tr>\n",
       "      <th>43</th>\n",
       "      <td>Ayudas a viviendas DGA</td>\n",
       "      <td>INGRESOS</td>\n",
       "      <td>AYUDAS</td>\n",
       "      <td>242000.0</td>\n",
       "      <td>1</td>\n",
       "    </tr>\n",
       "    <tr>\n",
       "      <th>43</th>\n",
       "      <td>Ayudas a viviendas DGA</td>\n",
       "      <td>INGRESOS</td>\n",
       "      <td>AYUDAS</td>\n",
       "      <td>242000.0</td>\n",
       "      <td>2</td>\n",
       "    </tr>\n",
       "    <tr>\n",
       "      <th>43</th>\n",
       "      <td>Ayudas a viviendas DGA</td>\n",
       "      <td>INGRESOS</td>\n",
       "      <td>AYUDAS</td>\n",
       "      <td>242000.0</td>\n",
       "      <td>3</td>\n",
       "    </tr>\n",
       "    <tr>\n",
       "      <th>43</th>\n",
       "      <td>Ayudas a viviendas DGA</td>\n",
       "      <td>INGRESOS</td>\n",
       "      <td>AYUDAS</td>\n",
       "      <td>242000.0</td>\n",
       "      <td>4</td>\n",
       "    </tr>\n",
       "    <tr>\n",
       "      <th>43</th>\n",
       "      <td>Ayudas a viviendas DGA</td>\n",
       "      <td>INGRESOS</td>\n",
       "      <td>AYUDAS</td>\n",
       "      <td>242000.0</td>\n",
       "      <td>5</td>\n",
       "    </tr>\n",
       "    <tr>\n",
       "      <th>43</th>\n",
       "      <td>Ayudas a viviendas DGA</td>\n",
       "      <td>INGRESOS</td>\n",
       "      <td>AYUDAS</td>\n",
       "      <td>242000.0</td>\n",
       "      <td>6</td>\n",
       "    </tr>\n",
       "    <tr>\n",
       "      <th>43</th>\n",
       "      <td>Ayudas a viviendas DGA</td>\n",
       "      <td>INGRESOS</td>\n",
       "      <td>AYUDAS</td>\n",
       "      <td>242000.0</td>\n",
       "      <td>7</td>\n",
       "    </tr>\n",
       "    <tr>\n",
       "      <th>43</th>\n",
       "      <td>Ayudas a viviendas DGA</td>\n",
       "      <td>INGRESOS</td>\n",
       "      <td>AYUDAS</td>\n",
       "      <td>242000.0</td>\n",
       "      <td>8</td>\n",
       "    </tr>\n",
       "    <tr>\n",
       "      <th>43</th>\n",
       "      <td>Ayudas a viviendas DGA</td>\n",
       "      <td>INGRESOS</td>\n",
       "      <td>AYUDAS</td>\n",
       "      <td>242000.0</td>\n",
       "      <td>9</td>\n",
       "    </tr>\n",
       "    <tr>\n",
       "      <th>43</th>\n",
       "      <td>Ayudas a viviendas DGA</td>\n",
       "      <td>INGRESOS</td>\n",
       "      <td>AYUDAS</td>\n",
       "      <td>242000.0</td>\n",
       "      <td>10</td>\n",
       "    </tr>\n",
       "    <tr>\n",
       "      <th>43</th>\n",
       "      <td>Ayudas a viviendas DGA</td>\n",
       "      <td>INGRESOS</td>\n",
       "      <td>AYUDAS</td>\n",
       "      <td>242000.0</td>\n",
       "      <td>11</td>\n",
       "    </tr>\n",
       "    <tr>\n",
       "      <th>43</th>\n",
       "      <td>Ayudas a viviendas DGA</td>\n",
       "      <td>INGRESOS</td>\n",
       "      <td>AYUDAS</td>\n",
       "      <td>242000.0</td>\n",
       "      <td>12</td>\n",
       "    </tr>\n",
       "    <tr>\n",
       "      <th>43</th>\n",
       "      <td>Ayudas a viviendas DGA</td>\n",
       "      <td>INGRESOS</td>\n",
       "      <td>AYUDAS</td>\n",
       "      <td>242000.0</td>\n",
       "      <td>13</td>\n",
       "    </tr>\n",
       "    <tr>\n",
       "      <th>43</th>\n",
       "      <td>Ayudas a viviendas DGA</td>\n",
       "      <td>INGRESOS</td>\n",
       "      <td>AYUDAS</td>\n",
       "      <td>242000.0</td>\n",
       "      <td>14</td>\n",
       "    </tr>\n",
       "    <tr>\n",
       "      <th>43</th>\n",
       "      <td>Ayudas a viviendas DGA</td>\n",
       "      <td>INGRESOS</td>\n",
       "      <td>AYUDAS</td>\n",
       "      <td>242000.0</td>\n",
       "      <td>15</td>\n",
       "    </tr>\n",
       "    <tr>\n",
       "      <th>43</th>\n",
       "      <td>Ayudas a viviendas DGA</td>\n",
       "      <td>INGRESOS</td>\n",
       "      <td>AYUDAS</td>\n",
       "      <td>242000.0</td>\n",
       "      <td>16</td>\n",
       "    </tr>\n",
       "  </tbody>\n",
       "</table>\n",
       "</div>"
      ],
      "text/plain": [
       "                  ELEMENTO  CONCEPTO   GRUPO  IMPORTES_TOTALES  iteracion\n",
       "43  Ayudas a viviendas DGA  INGRESOS  AYUDAS          242000.0          1\n",
       "43  Ayudas a viviendas DGA  INGRESOS  AYUDAS          242000.0          2\n",
       "43  Ayudas a viviendas DGA  INGRESOS  AYUDAS          242000.0          3\n",
       "43  Ayudas a viviendas DGA  INGRESOS  AYUDAS          242000.0          4\n",
       "43  Ayudas a viviendas DGA  INGRESOS  AYUDAS          242000.0          5\n",
       "43  Ayudas a viviendas DGA  INGRESOS  AYUDAS          242000.0          6\n",
       "43  Ayudas a viviendas DGA  INGRESOS  AYUDAS          242000.0          7\n",
       "43  Ayudas a viviendas DGA  INGRESOS  AYUDAS          242000.0          8\n",
       "43  Ayudas a viviendas DGA  INGRESOS  AYUDAS          242000.0          9\n",
       "43  Ayudas a viviendas DGA  INGRESOS  AYUDAS          242000.0         10\n",
       "43  Ayudas a viviendas DGA  INGRESOS  AYUDAS          242000.0         11\n",
       "43  Ayudas a viviendas DGA  INGRESOS  AYUDAS          242000.0         12\n",
       "43  Ayudas a viviendas DGA  INGRESOS  AYUDAS          242000.0         13\n",
       "43  Ayudas a viviendas DGA  INGRESOS  AYUDAS          242000.0         14\n",
       "43  Ayudas a viviendas DGA  INGRESOS  AYUDAS          242000.0         15\n",
       "43  Ayudas a viviendas DGA  INGRESOS  AYUDAS          242000.0         16"
      ]
     },
     "execution_count": 18,
     "metadata": {},
     "output_type": "execute_result"
    }
   ],
   "source": [
    "dataAyudasViviendasDGA"
   ]
  },
  {
   "cell_type": "code",
   "execution_count": 19,
   "metadata": {},
   "outputs": [],
   "source": [
    "## Outputs\n",
    "dataVAN = resData.loc[(resData['ELEMENTO'] == 'VAN PROYECTO')]\n",
    "dataTIRM = resData.loc[(resData['ELEMENTO'] == 'TIRM PROYECTO')]\n",
    "dataMARGEN = resData.loc[(resData['ELEMENTO'] == 'MARGEN ')]"
   ]
  },
  {
   "cell_type": "code",
   "execution_count": null,
   "metadata": {},
   "outputs": [],
   "source": []
  },
  {
   "cell_type": "code",
   "execution_count": null,
   "metadata": {},
   "outputs": [],
   "source": []
  },
  {
   "cell_type": "code",
   "execution_count": null,
   "metadata": {},
   "outputs": [],
   "source": []
  },
  {
   "cell_type": "code",
   "execution_count": 20,
   "metadata": {},
   "outputs": [
    {
     "data": {
      "image/png": "[encoded data removed]",
      "text/plain": [
       "<Figure size 1080x720 with 1 Axes>"
      ]
     },
     "metadata": {
      "needs_background": "light"
     },
     "output_type": "display_data"
    }
   ],
   "source": [
    "    titulo=' Evolución del VAN estimado restante, según Iteración'\n",
    "    plt.subplots(figsize = (15, 10))\n",
    "    plt.stem(dataVAN['iteracion'], dataVAN['IMPORTES_TOTALES'], \"r-\")\n",
    "    plt.title(titulo)\n",
    "    plt.xlabel('Iteración')\n",
    "    plt.ylabel('Valor VAN')\n",
    "    plt.savefig(rutaSalida+sheet_name+' (VAN).jpg') \n",
    "    plt.show()\n",
    "\n"
   ]
  },
  {
   "cell_type": "code",
   "execution_count": 21,
   "metadata": {},
   "outputs": [
    {
     "data": {
      "image/png": "[encoded data removed]",
      "text/plain": [
       "<Figure size 1080x720 with 1 Axes>"
      ]
     },
     "metadata": {
      "needs_background": "light"
     },
     "output_type": "display_data"
    }
   ],
   "source": [
    "    titulo=' Evolución del TirM estimado restante, según Iteración'\n",
    "    plt.subplots(figsize = (15, 10))\n",
    "    plt.stem(dataTIRM['iteracion'], dataTIRM['IMPORTES_TOTALES'], \"r-\")\n",
    "    plt.title(titulo)\n",
    "    plt.xlabel('Iteración')\n",
    "    plt.ylabel('Valor TIRM')\n",
    "    plt.savefig(rutaSalida+sheet_name+' (TIRM).jpg')\n",
    "    plt.show()"
   ]
  },
  {
   "cell_type": "code",
   "execution_count": 22,
   "metadata": {},
   "outputs": [
    {
     "data": {
      "image/png": "[encoded data removed]",
      "text/plain": [
       "<Figure size 1080x720 with 1 Axes>"
      ]
     },
     "metadata": {
      "needs_background": "light"
     },
     "output_type": "display_data"
    }
   ],
   "source": [
    "    titulo=' Evolución del Margen estimado restante, según Iteración'\n",
    "    plt.subplots(figsize = (15, 10))\n",
    "    plt.stem(dataMARGEN['iteracion'], dataMARGEN['IMPORTES_TOTALES'], \"r-\")\n",
    "    plt.title(titulo)\n",
    "    plt.xlabel('Iteración')\n",
    "    plt.ylabel('Valor Margen')\n",
    "    plt.savefig(rutaSalida+sheet_name+' (MARGEN).jpg') \n",
    "    plt.show()"
   ]
  },
  {
   "cell_type": "code",
   "execution_count": 23,
   "metadata": {},
   "outputs": [
    {
     "data": {
      "image/png": "[encoded data removed]",
      "text/plain": [
       "<Figure size 1080x720 with 1 Axes>"
      ]
     },
     "metadata": {
      "needs_background": "light"
     },
     "output_type": "display_data"
    }
   ],
   "source": [
    "titulo=' Entrada de datos de Venta Viviendas'\n",
    "plt.subplots(figsize = (15, 10))\n",
    "plt.stem(dataVentaViviendas['iteracion'], dataVentaViviendas['IMPORTES_TOTALES'], \"r-\")\n",
    "plt.title(titulo)\n",
    "plt.xlabel('Iteración')\n",
    "plt.ylabel('Valor Coste Venta Viviendas')\n",
    "plt.show()\n"
   ]
  },
  {
   "cell_type": "code",
   "execution_count": 24,
   "metadata": {},
   "outputs": [
    {
     "data": {
      "image/png": "[encoded data removed]",
      "text/plain": [
       "<Figure size 1080x720 with 1 Axes>"
      ]
     },
     "metadata": {
      "needs_background": "light"
     },
     "output_type": "display_data"
    }
   ],
   "source": [
    "titulo=' Entrada de datos de Ayudas Viviendas Ayto '\n",
    "plt.subplots(figsize = (15, 10))\n",
    "plt.stem(dataAyudasViviendasAyto['iteracion'], dataAyudasViviendasAyto['IMPORTES_TOTALES'], \"r-\")\n",
    "plt.title(titulo)\n",
    "plt.xlabel('Iteración')\n",
    "plt.ylabel('Valor Ayudas Viviendas Ayto')\n",
    "plt.show()"
   ]
  },
  {
   "cell_type": "code",
   "execution_count": 25,
   "metadata": {
    "scrolled": true
   },
   "outputs": [
    {
     "data": {
      "image/png": "[encoded data removed]",
      "text/plain": [
       "<Figure size 1080x720 with 1 Axes>"
      ]
     },
     "metadata": {
      "needs_background": "light"
     },
     "output_type": "display_data"
    }
   ],
   "source": [
    "titulo=' Entrada de datos de Ayudas Viviendas DGA'\n",
    "plt.subplots(figsize = (15, 10))\n",
    "plt.stem(dataAyudasViviendasDGA['iteracion'], dataAyudasViviendasDGA['IMPORTES_TOTALES'], \"r-\")\n",
    "plt.title(titulo)\n",
    "plt.xlabel('Iteración')\n",
    "plt.ylabel('Valor Ayudas Viviendas DGA')\n",
    "plt.show()\n"
   ]
  },
  {
   "cell_type": "code",
   "execution_count": 26,
   "metadata": {},
   "outputs": [
    {
     "data": {
      "image/png": "[encoded data removed]",
      "text/plain": [
       "<Figure size 1080x720 with 1 Axes>"
      ]
     },
     "metadata": {
      "needs_background": "light"
     },
     "output_type": "display_data"
    }
   ],
   "source": [
    "titulo=' Entrada de datos de Alquiler Viviendas'\n",
    "plt.subplots(figsize = (15, 10))\n",
    "plt.stem(dataAlquilerViviendas['iteracion'], dataAlquilerViviendas['IMPORTES_TOTALES'], \"r-\")\n",
    "plt.title(titulo)\n",
    "plt.xlabel('Iteración')\n",
    "plt.ylabel('Valor Alquiler Viviendas')\n",
    "plt.show()\n"
   ]
  },
  {
   "cell_type": "code",
   "execution_count": 27,
   "metadata": {},
   "outputs": [
    {
     "data": {
      "image/png": "[encoded data removed]",
      "text/plain": [
       "<Figure size 1080x720 with 1 Axes>"
      ]
     },
     "metadata": {
      "needs_background": "light"
     },
     "output_type": "display_data"
    }
   ],
   "source": [
    "titulo=' Entrada de datos de Capitalizacion Energia'\n",
    "plt.subplots(figsize = (15, 10))\n",
    "plt.stem(dataCapitalizacionEnergia['iteracion'], dataCapitalizacionEnergia['IMPORTES_TOTALES'], \"r-\")\n",
    "plt.title(titulo)\n",
    "plt.xlabel('Iteración')\n",
    "plt.ylabel('Valor Capitalizacion Energia')\n",
    "plt.show()"
   ]
  },
  {
   "cell_type": "code",
   "execution_count": 28,
   "metadata": {},
   "outputs": [
    {
     "data": {
      "image/png": "[encoded data removed]",
      "text/plain": [
       "<Figure size 1080x720 with 1 Axes>"
      ]
     },
     "metadata": {
      "needs_background": "light"
     },
     "output_type": "display_data"
    }
   ],
   "source": [
    "titulo=' Entrada de datos de Demolición'\n",
    "plt.subplots(figsize = (15, 10))\n",
    "plt.stem(dataDemolicion['iteracion'], dataDemolicion['IMPORTES_TOTALES'], \"r-\")\n",
    "plt.title(titulo)\n",
    "plt.xlabel('Iteración')\n",
    "plt.ylabel('Valor Demolición')\n",
    "plt.show()"
   ]
  },
  {
   "cell_type": "code",
   "execution_count": 29,
   "metadata": {},
   "outputs": [
    {
     "data": {
      "image/png": "[encoded data removed]",
      "text/plain": [
       "<Figure size 1080x720 with 1 Axes>"
      ]
     },
     "metadata": {
      "needs_background": "light"
     },
     "output_type": "display_data"
    }
   ],
   "source": [
    "titulo=' Entrada de datos de Gestión Residuo Canon'\n",
    "plt.subplots(figsize = (15, 10))\n",
    "plt.stem(dataGestionResiduoCanon['iteracion'], dataGestionResiduoCanon['IMPORTES_TOTALES'], \"r-\")\n",
    "plt.title(titulo)\n",
    "plt.xlabel('Iteración')\n",
    "plt.ylabel('Valor Gestión Residuo Canon')\n",
    "plt.show()"
   ]
  },
  {
   "cell_type": "code",
   "execution_count": 30,
   "metadata": {},
   "outputs": [
    {
     "data": {
      "image/png": "[encoded data removed]",
      "text/plain": [
       "<Figure size 1080x720 with 1 Axes>"
      ]
     },
     "metadata": {
      "needs_background": "light"
     },
     "output_type": "display_data"
    }
   ],
   "source": [
    "titulo=' Entrada de datos de Vivienda'\n",
    "plt.subplots(figsize = (15, 10))\n",
    "plt.stem(dataVivienda['iteracion'], dataVivienda['IMPORTES_TOTALES'], \"r-\")\n",
    "plt.title(titulo)\n",
    "plt.xlabel('Iteración')\n",
    "plt.ylabel('Valor Vivienda')\n",
    "plt.show()"
   ]
  },
  {
   "cell_type": "code",
   "execution_count": 31,
   "metadata": {},
   "outputs": [
    {
     "data": {
      "image/png": "[encoded data removed]",
      "text/plain": [
       "<Figure size 1080x720 with 1 Axes>"
      ]
     },
     "metadata": {
      "needs_background": "light"
     },
     "output_type": "display_data"
    }
   ],
   "source": [
    "titulo=' Entrada de datos de Rehabilitación'\n",
    "plt.subplots(figsize = (15, 10))\n",
    "plt.stem(dataRehabilitacion['iteracion'], dataRehabilitacion['IMPORTES_TOTALES'], \"r-\")\n",
    "plt.title(titulo)\n",
    "plt.xlabel('Iteración')\n",
    "plt.ylabel('Valor Rehabilitación')\n",
    "plt.show()"
   ]
  },
  {
   "cell_type": "code",
   "execution_count": null,
   "metadata": {},
   "outputs": [],
   "source": []
  },
  {
   "cell_type": "code",
   "execution_count": null,
   "metadata": {},
   "outputs": [],
   "source": []
  },
  {
   "cell_type": "code",
   "execution_count": null,
   "metadata": {},
   "outputs": [],
   "source": []
  }
 ],
 "metadata": {
  "kernelspec": {
   "display_name": "Python 3",
   "language": "python",
   "name": "python3"
  },
  "language_info": {
   "codemirror_mode": {
    "name": "ipython",
    "version": 3
   },
   "file_extension": ".py",
   "mimetype": "text/x-python",
   "name": "python",
   "nbconvert_exporter": "python",
   "pygments_lexer": "ipython3",
   "version": "3.7.9"
  }
 },
 "nbformat": 4,
 "nbformat_minor": 4
}
